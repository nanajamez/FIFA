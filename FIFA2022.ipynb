{
 "cells": [
  {
   "cell_type": "code",
   "execution_count": 23,
   "id": "dd6becdf",
   "metadata": {},
   "outputs": [
    {
     "name": "stdout",
     "output_type": "stream",
     "text": [
      "This is happening in Qatar\n"
     ]
    }
   ],
   "source": [
    "def Fifa2022():\n",
    "    print('This is happening in Qatar')\n",
    "Fifa2022()"
   ]
  },
  {
   "cell_type": "code",
   "execution_count": 24,
   "id": "700728c8",
   "metadata": {},
   "outputs": [
    {
     "name": "stdout",
     "output_type": "stream",
     "text": [
      "Q\n",
      "A\n",
      "T\n",
      "A\n",
      "R\n"
     ]
    }
   ],
   "source": [
    "fifa2022 = ['Q','A','T','A','R']\n",
    "for i in fifa2022:\n",
    "    print(i)"
   ]
  },
  {
   "cell_type": "code",
   "execution_count": 25,
   "id": "bef692be",
   "metadata": {},
   "outputs": [
    {
     "name": "stdout",
     "output_type": "stream",
     "text": [
      "This is happening in Qatar\n",
      "ENGLAND or PORTUGAL\n"
     ]
    }
   ],
   "source": [
    "def Fifa2022():\n",
    "    print('This is happening in Qatar')\n",
    "    def winners_category():\n",
    "        print('ENGLAND or PORTUGAL')\n",
    "    winners_category()\n",
    "Fifa2022()"
   ]
  },
  {
   "cell_type": "code",
   "execution_count": 26,
   "id": "38f52da5",
   "metadata": {},
   "outputs": [
    {
     "name": "stdout",
     "output_type": "stream",
     "text": [
      "This is happening in Qatar\n",
      "Result: 2\n",
      "Qatar takes it all\n"
     ]
    }
   ],
   "source": [
    "def Fifa2022():\n",
    "    print('This is happening in Qatar')\n",
    "Fifa2022()\n",
    "\n",
    "England_win = int(input('Result: '))\n",
    "if England_win == 7:\n",
    "    print('England takes the FIFA World Cup')\n",
    "elif England_win == 5:\n",
    "    print('Portugal takes the FIFA World Cup')\n",
    "else:\n",
    "    print('Qatar takes it all')"
   ]
  },
  {
   "cell_type": "code",
   "execution_count": null,
   "id": "0431248d",
   "metadata": {},
   "outputs": [],
   "source": []
  }
 ],
 "metadata": {
  "kernelspec": {
   "display_name": "Python 3 (ipykernel)",
   "language": "python",
   "name": "python3"
  },
  "language_info": {
   "codemirror_mode": {
    "name": "ipython",
    "version": 3
   },
   "file_extension": ".py",
   "mimetype": "text/x-python",
   "name": "python",
   "nbconvert_exporter": "python",
   "pygments_lexer": "ipython3",
   "version": "3.9.12"
  }
 },
 "nbformat": 4,
 "nbformat_minor": 5
}
